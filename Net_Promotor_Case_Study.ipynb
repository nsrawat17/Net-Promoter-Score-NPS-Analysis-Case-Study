{
 "cells": [
  {
   "cell_type": "markdown",
   "id": "a2976062",
   "metadata": {},
   "source": [
    "## Use Case : NPS (Net Promoter Score)\n",
    "\n",
    "Imagine you are a  Data analyst \n",
    "\n",
    "You have been asked to analyze  user to  survey data and  report  NPS to the management \n",
    "But what it exactly is NPS \n",
    "\n",
    "Have you all seen that every month you get a survey  from scaler ?\n",
    " This from asks you to fill  in feedback regarding hpw ypu are liking the service of scaler in terms of a numerical  score \n",
    " This is known as the Likelihood to Recommended Survey \n",
    " It is widely used by differnet Companies and service  providers to evaluate their performance and Customer Satisfaction "
   ]
  },
  {
   "cell_type": "markdown",
   "id": "a24ba6b6",
   "metadata": {},
   "source": [
    "# Responses are given  a scale ranging from 0-10\n",
    " with 0 labeled with \"Not at all likely\" and \n",
    " 10  labeled with \"Extremely likey\".\n",
    "\n",
    "Based on this we calculate the Net Promotor Score "
   ]
  },
  {
   "cell_type": "markdown",
   "id": "4a0262c8",
   "metadata": {},
   "source": [
    "# NPS = Promotor - Detractor"
   ]
  },
  {
   "cell_type": "markdown",
   "id": "6fec5cde",
   "metadata": {},
   "source": [
    "# Range of NPS "
   ]
  },
  {
   "cell_type": "markdown",
   "id": "18d8f4d3",
   "metadata": {},
   "source": [
    "1. if all people are promoters rated(9 -10) , we get 100 NPS \n",
    "2. Conversely  , if all  people are detractors (rated 0-6) , we get - 100 NPS \n",
    "3. Also ,if  all people  are neutral (rated 7-8) we get a 0 NPS\n",
    "\n",
    "Therefore , the range of NPS  lies between [-100,100]\n",
    "\n",
    "\n",
    "Generally ,  each company target to get at least a threshold NPS.\n",
    "\n",
    "For Scaler, this is a score of 70 \n",
    "This means  that if  NPS >70 , it is great performance  of the company \n",
    "\n",
    "Naturally , this varies  from business to business \n",
    "\n",
    "## How is NPS helpful \n",
    "\n",
    "Why would we want to analyze  the survey data for NPS ?\n",
    "NPS helps a brand in gauging its brand value and sct  or service's usage . Hence , bringing the Business Down \n",
    "\n",
    "These insights can help  business make customer oriented decision along with product improvisation.\n",
    "2/3 of Fortune 500 Companies  use NPS \n",
    "\n",
    "Even at Scaler, every month we randomly reach out to our learners  over a call and try to understand,\n",
    "1. How is the overall experience for them ?\n",
    "2. What are some things that they like ?\n",
    "3. What do they don't like ?\n",
    "\n",
    "Based on feedback received , sometimes we end up  getting really  good insights and tackle them \n",
    "This will improve the Next month NPS    entiment in the market \n",
    "\n",
    "1. Promoters  are highly likely to recommend your product or service . Hence, bringing in more business.\n",
    "2. Whereas , Detractors are likely to recommend  against your produ"
   ]
  },
  {
   "cell_type": "code",
   "execution_count": 81,
   "id": "f9cba988",
   "metadata": {},
   "outputs": [],
   "source": [
    "import numpy as np "
   ]
  },
  {
   "cell_type": "code",
   "execution_count": 82,
   "id": "5b91fc3f",
   "metadata": {},
   "outputs": [],
   "source": [
    "score = np.loadtxt('NPS_Survey_Dataset_500.txt',delimiter='\\t',skiprows=1,usecols=1,dtype='int')"
   ]
  },
  {
   "cell_type": "code",
   "execution_count": 83,
   "id": "1c98ca46",
   "metadata": {},
   "outputs": [
    {
     "data": {
      "text/plain": [
       "array([10,  4,  7,  3,  8,  4,  5,  1,  2,  1,  2,  9,  4,  8,  8,  8,  9,\n",
       "        8,  3,  8,  7,  9,  6,  8,  9,  6, 10,  8,  3,  7,  0,  2,  8,  3,\n",
       "        4,  7,  9,  8,  2,  4,  8,  0,  3,  8,  5,  0,  8,  8,  7,  0,  5,\n",
       "       10,  1,  7,  8,  9,  5,  2,  0,  9,  0,  2,  1,  4,  2,  1,  2,  6,\n",
       "        1,  7,  7,  5, 10,  2,  4,  4,  4,  1,  7,  8,  2,  7,  0,  9,  7,\n",
       "        3, 10,  1,  0,  5,  1,  1,  8,  6,  0,  2,  7,  1,  3,  9, 10,  4,\n",
       "        2,  5,  5,  6,  4,  7,  3,  5,  0,  6, 10,  5, 10,  0,  6,  8,  4,\n",
       "        5,  4,  6,  8,  3,  7,  9,  3,  8,  3,  6,  3, 10,  8,  7,  6,  0,\n",
       "        5, 10,  6,  0,  0,  6,  1,  5,  7,  4,  3,  8,  4,  5,  7, 10,  5,\n",
       "        2,  5, 10,  3,  7,  2,  9,  7,  8,  4,  2,  5,  8,  7,  7,  7,  9,\n",
       "        1,  6,  9,  1,  8,  3,  7,  4,  5, 10,  4,  6,  8,  5, 10,  6,  2,\n",
       "        0,  3,  7,  6,  4,  6,  8,  3,  1,  0,  2,  7,  6,  6,  8,  8,  5,\n",
       "        1,  4,  9, 10,  2,  9, 10,  4,  9, 10,  9,  3,  6,  6,  4,  6,  1,\n",
       "        0,  0,  5, 10,  5, 10,  0,  6, 10,  3,  6,  3,  8,  3,  1,  8,  2,\n",
       "        0,  7,  4,  5,  7,  6,  7,  4,  3,  7,  7,  8,  6,  8,  3,  0,  8,\n",
       "        5,  3,  3,  8, 10,  8,  7,  6,  8,  1,  4,  3,  1,  7,  3,  7, 10,\n",
       "        2,  0,  2,  3,  2,  7,  7,  1,  9, 10,  3,  0,  0,  7,  4,  0,  1,\n",
       "        6,  0,  8,  6,  9,  1,  8,  6,  9,  8, 10,  9, 10,  4,  8, 10,  6,\n",
       "        0,  3,  6,  7,  2,  7, 10,  7,  2,  4,  8,  1,  8,  2,  4,  0, 10,\n",
       "        5,  5, 10,  4,  5,  7, 10,  2,  4,  7,  1,  4,  1,  2,  9,  1,  1,\n",
       "        9,  9,  4,  6, 10, 10,  8, 10,  0,  0,  5,  1,  9,  6,  7, 10, 10,\n",
       "        8,  7,  2,  1,  4,  6,  6,  4,  3,  4,  3,  5,  2,  1,  5,  5,  4,\n",
       "        3,  3,  0,  8,  3,  1,  9,  3,  3,  2,  7,  8,  1,  6,  6, 10,  1,\n",
       "        9,  8,  7,  4, 10,  8,  4,  2,  2,  3,  5,  4, 10,  1,  4,  9,  9,\n",
       "       10,  8,  8,  1,  2,  5,  4,  2,  1,  0,  1,  2,  2,  1,  8,  2,  1,\n",
       "        2,  2,  8,  5,  7,  2,  6,  7,  1,  9, 10,  1,  3,  5,  2,  2,  8,\n",
       "        0, 10,  3,  9,  2,  4, 10,  6,  3,  3,  4,  8,  4,  4,  5,  2,  4,\n",
       "        3,  6,  5,  4,  9,  1,  8,  4,  8,  2,  3,  5, 10,  6,  3,  8,  9,\n",
       "        8,  9, 10,  1,  7,  9,  0,  8,  4,  7,  9,  8,  2,  7,  5,  0,  4,\n",
       "       10,  6,  8,  9,  0,  9, 10])"
      ]
     },
     "execution_count": 83,
     "metadata": {},
     "output_type": "execute_result"
    }
   ],
   "source": [
    "score"
   ]
  },
  {
   "cell_type": "code",
   "execution_count": 84,
   "id": "0fd093c9",
   "metadata": {},
   "outputs": [
    {
     "data": {
      "text/plain": [
       "(500,)"
      ]
     },
     "execution_count": 84,
     "metadata": {},
     "output_type": "execute_result"
    }
   ],
   "source": [
    "score.shape"
   ]
  },
  {
   "cell_type": "code",
   "execution_count": 85,
   "id": "e780708f",
   "metadata": {},
   "outputs": [],
   "source": [
    "detractors = score[score <=6]"
   ]
  },
  {
   "cell_type": "code",
   "execution_count": 86,
   "id": "38f249d9",
   "metadata": {},
   "outputs": [
    {
     "data": {
      "text/plain": [
       "(304,)"
      ]
     },
     "execution_count": 86,
     "metadata": {},
     "output_type": "execute_result"
    }
   ],
   "source": [
    "detractors.shape"
   ]
  },
  {
   "cell_type": "code",
   "execution_count": 87,
   "id": "0b327f79",
   "metadata": {},
   "outputs": [],
   "source": [
    "promotors= score[score >=9]"
   ]
  },
  {
   "cell_type": "code",
   "execution_count": 88,
   "id": "9aab0bf1",
   "metadata": {},
   "outputs": [
    {
     "data": {
      "text/plain": [
       "array([10,  9,  9,  9,  9, 10,  9, 10,  9,  9, 10,  9, 10,  9, 10, 10, 10,\n",
       "        9, 10, 10, 10, 10,  9,  9,  9, 10, 10,  9, 10,  9, 10,  9, 10,  9,\n",
       "       10, 10, 10, 10, 10,  9, 10,  9,  9, 10,  9, 10, 10, 10, 10, 10, 10,\n",
       "        9,  9,  9, 10, 10, 10,  9, 10, 10,  9, 10,  9, 10, 10,  9,  9, 10,\n",
       "        9, 10, 10,  9, 10,  9, 10,  9,  9, 10,  9,  9, 10,  9,  9, 10])"
      ]
     },
     "execution_count": 88,
     "metadata": {},
     "output_type": "execute_result"
    }
   ],
   "source": [
    "promotors"
   ]
  },
  {
   "cell_type": "code",
   "execution_count": 89,
   "id": "6055f753",
   "metadata": {},
   "outputs": [
    {
     "data": {
      "text/plain": [
       "(84,)"
      ]
     },
     "execution_count": 89,
     "metadata": {},
     "output_type": "execute_result"
    }
   ],
   "source": [
    "promotors.shape"
   ]
  },
  {
   "cell_type": "code",
   "execution_count": 90,
   "id": "5d6f5b14",
   "metadata": {},
   "outputs": [],
   "source": [
    "per_detractors = detractors.shape[0]/score.shape[0]"
   ]
  },
  {
   "cell_type": "code",
   "execution_count": 91,
   "id": "cbaf5f01",
   "metadata": {},
   "outputs": [
    {
     "data": {
      "text/plain": [
       "60.8"
      ]
     },
     "execution_count": 91,
     "metadata": {},
     "output_type": "execute_result"
    }
   ],
   "source": [
    "per_detractors * 100"
   ]
  },
  {
   "cell_type": "code",
   "execution_count": 92,
   "id": "260c2cd2",
   "metadata": {},
   "outputs": [],
   "source": [
    "per_promotors = promotors.shape[0]/score.shape[0]"
   ]
  },
  {
   "cell_type": "code",
   "execution_count": 93,
   "id": "bb8089a9",
   "metadata": {},
   "outputs": [
    {
     "data": {
      "text/plain": [
       "16.8"
      ]
     },
     "execution_count": 93,
     "metadata": {},
     "output_type": "execute_result"
    }
   ],
   "source": [
    "per_promotors*100"
   ]
  },
  {
   "cell_type": "code",
   "execution_count": 94,
   "id": "642c6ccf",
   "metadata": {},
   "outputs": [],
   "source": [
    "NPS =per_promotors - per_detractors"
   ]
  },
  {
   "cell_type": "code",
   "execution_count": 95,
   "id": "fa6d91b2",
   "metadata": {},
   "outputs": [
    {
     "data": {
      "text/plain": [
       "-43.99999999999999"
      ]
     },
     "execution_count": 95,
     "metadata": {},
     "output_type": "execute_result"
    }
   ],
   "source": [
    "NPS*100"
   ]
  },
  {
   "cell_type": "markdown",
   "id": "9f41c941",
   "metadata": {},
   "source": [
    "## NPS score is Very Low \n",
    "\n",
    "You have to look  into your current business/ product as Customers are not satisfied with it. "
   ]
  }
 ],
 "metadata": {
  "kernelspec": {
   "display_name": "base",
   "language": "python",
   "name": "python3"
  },
  "language_info": {
   "codemirror_mode": {
    "name": "ipython",
    "version": 3
   },
   "file_extension": ".py",
   "mimetype": "text/x-python",
   "name": "python",
   "nbconvert_exporter": "python",
   "pygments_lexer": "ipython3",
   "version": "3.12.4"
  }
 },
 "nbformat": 4,
 "nbformat_minor": 5
}
